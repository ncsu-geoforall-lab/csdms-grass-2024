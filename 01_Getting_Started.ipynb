{
 "cells": [
  {
   "cell_type": "markdown",
   "id": "901c8b68-57c0-45c8-baa6-4b30dae15f02",
   "metadata": {
    "tags": []
   },
   "source": [
    "# Getting Started with GRASS GIS\n",
    "\n",
    "_**Caitlin Haedrich and Pratikshya Regmi**, North Carolina State University_\n",
    "\n",
    "This workshop is based on sections of [GIS-based Analysis of Coastal Lidar Time-Series by Hardin et al (2014)](https://link.springer.com/book/10.1007/978-1-4939-1835-5)\n",
    "\n",
    "In this notebook we will:\n",
    "* [Import Python and GRASS Python API packages](#1.-Import-Python-Packages)\n",
    "* [Create a new GRASS project](#2.-Create-a-New-Project)\n",
    "* [Import data](#4.-Import-Data)\n",
    "* Get a quick overview of [working with GRASS Tools](#5.-GRASS-GIS-Tools) and [the Python API](#6.-GRASS-Python-API)\n",
    "* [Visualize data](#7.-Data-Visualization-with-grass.jupyter)"
   ]
  },
  {
   "cell_type": "markdown",
   "id": "0ff96c4b-138e-4173-83d0-29caf2aea763",
   "metadata": {
    "tags": []
   },
   "source": [
    "***\n",
    "\n",
    "## 1. Import Python Packages"
   ]
  },
  {
   "cell_type": "markdown",
   "id": "9e4f9e90-47d5-420f-b123-68b9953c5fa5",
   "metadata": {},
   "source": [
    "Import the Python standard libraries we need."
   ]
  },
  {
   "cell_type": "code",
   "execution_count": null,
   "id": "b5f82c77-0d00-4149-8eab-67dfa5091cc5",
   "metadata": {
    "tags": []
   },
   "outputs": [],
   "source": [
    "import subprocess\n",
    "import sys\n",
    "from pathlib import Path"
   ]
  },
  {
   "cell_type": "markdown",
   "id": "ce6322b1-ce3f-4770-a598-9cff6ba39d47",
   "metadata": {},
   "source": [
    "We are going to import the GRASS GIS Python API (`grass.script`) and the GRASS GIS Jupyter package (`grass.jupyter`), but first, we need to find the path to those packages using the `--config python_path` command. This command is slightly different for each operating system.\n",
    "\n",
    "We use `subprocess.check_output` to find the path and `sys.path.append` to add it to the path."
   ]
  },
  {
   "cell_type": "code",
   "execution_count": null,
   "id": "62967254-4dce-4c04-a4d5-7c8ad0a6f48c",
   "metadata": {
    "tags": []
   },
   "outputs": [],
   "source": [
    "sys.path.append(\n",
    "    subprocess.check_output([\"grass\", \"--config\", \"python_path\"], text=True, shell=False).strip()\n",
    ")"
   ]
  },
  {
   "cell_type": "markdown",
   "id": "f786bcb3-1d18-48fc-9509-9bbe38d4b3cc",
   "metadata": {},
   "source": [
    "And now we can import the GRASS python packages!"
   ]
  },
  {
   "cell_type": "code",
   "execution_count": null,
   "id": "4ee71446-471c-46f4-b81b-e8d6c344d0a8",
   "metadata": {},
   "outputs": [],
   "source": [
    "# Import the GRASS GIS packages we need.\n",
    "import grass.script as gs\n",
    "import grass.jupyter as gj"
   ]
  },
  {
   "cell_type": "markdown",
   "id": "2314e141-70f6-4b97-9f86-701549b67e58",
   "metadata": {},
   "source": [
    "***\n",
    "\n",
    "## 2. Create a New Project"
   ]
  },
  {
   "cell_type": "code",
   "execution_count": null,
   "id": "70b32a5a-8338-4d15-8d3b-49378176977c",
   "metadata": {},
   "outputs": [],
   "source": [
    "!grass -e -c EPSG:3358 $HOME/csdms-grass-2024/nags_head"
   ]
  },
  {
   "cell_type": "markdown",
   "id": "e915ed19-58f4-4234-80ef-83622018edd0",
   "metadata": {},
   "source": [
    "Starting with GRASS GIS 8.4 (now we are using 8.3+), you'll be able to do this with the `grass.script` package:\n",
    "\n",
    "`gs.create_project(\"nags_head\", epsg=3358, overwrite=True)`"
   ]
  },
  {
   "cell_type": "markdown",
   "id": "d39e5e2a-c16f-451d-8958-f19b61aeba64",
   "metadata": {},
   "source": [
    "***\n",
    "\n",
    "## 3. Start GRASS Session"
   ]
  },
  {
   "cell_type": "code",
   "execution_count": null,
   "id": "87f7b939-e351-48af-93f4-c6108df8a037",
   "metadata": {},
   "outputs": [],
   "source": [
    "gj.init(\"./nags_head/PERMANENT\");"
   ]
  },
  {
   "cell_type": "markdown",
   "id": "38bf616a-1fe0-4c42-84f3-3f86563bb293",
   "metadata": {},
   "source": [
    "We've launched GRASS GIS now! We can access GRASS GIS commands using the command line interface (with the `!` line magic):"
   ]
  },
  {
   "cell_type": "code",
   "execution_count": null,
   "id": "ae1c72b3-9168-45cb-ab11-2b35342a5cf0",
   "metadata": {},
   "outputs": [],
   "source": [
    "!g.version"
   ]
  },
  {
   "cell_type": "code",
   "execution_count": null,
   "id": "60b16714-22dc-499d-a729-57db5692153c",
   "metadata": {},
   "outputs": [],
   "source": [
    "!g.region -p"
   ]
  },
  {
   "cell_type": "markdown",
   "id": "1a26f99f-b1f1-4f28-87a7-dde2a07db310",
   "metadata": {},
   "source": [
    "***\n",
    "\n",
    "## 4. Import Data"
   ]
  },
  {
   "cell_type": "markdown",
   "id": "f9dcef2a-d602-4526-bee6-ac140fd08656",
   "metadata": {},
   "source": [
    "All the data for this workshop is stored in `/data/grass-workshop`. Let's see what's there."
   ]
  },
  {
   "cell_type": "code",
   "execution_count": null,
   "id": "3c6c463b-60d8-4b51-b7e9-b2526ec083ad",
   "metadata": {
    "tags": []
   },
   "outputs": [],
   "source": [
    "!ls /data/grass-workshop"
   ]
  },
  {
   "cell_type": "code",
   "execution_count": null,
   "id": "ef91b023-45e6-425e-aa59-62bb700bd92f",
   "metadata": {},
   "outputs": [],
   "source": [
    "!r.import input=\"/data/grass-workshop/naip_2020.tif\" output=\"naip_2020\" resolution=value resolution_value=1"
   ]
  },
  {
   "cell_type": "code",
   "execution_count": null,
   "id": "74f1bbb5-869f-4433-b1db-7afbfe64c104",
   "metadata": {},
   "outputs": [],
   "source": [
    "!g.region raster=\"naip_2020.1\" -p"
   ]
  },
  {
   "cell_type": "markdown",
   "id": "937d249b-93e2-4911-a639-d3757b706b84",
   "metadata": {},
   "source": [
    "***\n",
    "\n",
    "## 5. GRASS GIS Tools"
   ]
  },
  {
   "cell_type": "markdown",
   "id": "2fbe9e68-b460-4ba7-8194-725e5bdf8409",
   "metadata": {},
   "source": [
    "GRASS functionality is available through tools (also called modules). There are over 500 different tools in the core distribution and over 300 addon tools or extensions that can be used to prepare and analyze data.\n",
    "\n",
    "Tools respect the following naming conventions:\n",
    "\n",
    "Prefix | Function | Example\n",
    "------ | -------- | -------\n",
    "r.* | raster processing | r.mapcalc: map algebra\n",
    "v.*\t| vector processing\t| v.clean: topological cleaning\n",
    "i.*\t| imagery processing | i.segment: object recognition\n",
    "db.* | database management | db.select: select values from table\n",
    "r3.* | 3D raster processing | r3.stats: 3D raster statistics\n",
    "t.* | temporal data processing | t.rast.aggregate: temporal aggregation\n",
    "g.* | general data management | g.rename: renames map\n",
    "d.* | display | d.rast: display raster map\n",
    "\n",
    "Note also that some tools have multiple dots in their names. For example, tools staring with v.net.* deal with vector network analysis and r.in.* tools import raster data into GRASS GIS spatial database.\n",
    "\n",
    "There is also a tool for finding other tools:"
   ]
  },
  {
   "cell_type": "code",
   "execution_count": null,
   "id": "e2638a28-6d87-46e7-bad4-3800ef85545c",
   "metadata": {},
   "outputs": [],
   "source": [
    "!g.search.modules keyword=zonal"
   ]
  },
  {
   "cell_type": "markdown",
   "id": "f883c30e-f7e3-46de-bc6a-d086f93d0f71",
   "metadata": {},
   "source": [
    "Here is how to get all options and flags of a GRASS tool through command line:"
   ]
  },
  {
   "cell_type": "code",
   "execution_count": null,
   "id": "ec1b76fa-6708-4e82-b7f8-f91fd0c72637",
   "metadata": {},
   "outputs": [],
   "source": [
    "!r.univar --help"
   ]
  },
  {
   "cell_type": "markdown",
   "id": "403dfe37-3460-4bd8-93c0-b6b5bff27e8d",
   "metadata": {},
   "source": [
    "This will open the tool's full manual page, but it will work only locally.\n",
    "\n",
    "```\n",
    "g.manual r.univar\n",
    "```\n",
    "\n",
    "For the online version of manual pages, you might visit: <https://grass.osgeo.org/grass-stable/manuals/index.html> "
   ]
  },
  {
   "cell_type": "markdown",
   "id": "09ba4e1b-59a7-4849-a725-353e75f98c86",
   "metadata": {},
   "source": [
    "***\n",
    "\n",
    "## 6. GRASS Python API"
   ]
  },
  {
   "cell_type": "markdown",
   "id": "c0aaecac-bfaa-4930-99af-3f6242cb907c",
   "metadata": {},
   "source": [
    "There are two Python APIs for accessing GRASS GIS tools' functionality - [GRASS GIS Python Scripting Library](https://grass.osgeo.org/grass-stable/manuals/libpython/script_intro.html) and [PyGRASS](https://grass.osgeo.org/grass-stable/manuals/libpython/pygrass_index.html).\n",
    "PyGRASS is advantageous for more advanced workflows and low level tasks. Here, we will be using the Python Scripting Library (`import grass.script as gs`)\n",
    "as it is simpler and more straightforward to use.\n",
    " \n",
    "\n",
    "The GRASS GIS Python Scripting Library provides functions to call GRASS tools within scripts as subprocesses. The most often used functions include:\n",
    "\n",
    " * [run_command()](https://grass.osgeo.org/grass-stable/manuals/libpython/script.html#script.core.run_command): used with modules which output raster/vector data where text output is not expected\n",
    " * [read_command()](https://grass.osgeo.org/grass-stable/manuals/libpython/script.html#script.core.read_command): used when we are interested in text output\n",
    " * [parse_command()](https://grass.osgeo.org/grass-stable/manuals/libpython/script.html#script.core.parse_command): used with modules producing text output as key=value pair\n",
    " * [write_command()](https://grass.osgeo.org/grass-stable/manuals/libpython/script.html#script.core.write_command): for modules expecting text input from either standard input or file"
   ]
  },
  {
   "cell_type": "markdown",
   "id": "707fb6ea-0e4f-434d-8311-7d20190c27bf",
   "metadata": {},
   "source": [
    "Here's an example of the Python API in action:"
   ]
  },
  {
   "cell_type": "code",
   "execution_count": null,
   "id": "a828ab09-fa34-475a-b1f6-b0d9060bd72c",
   "metadata": {},
   "outputs": [],
   "source": [
    "gs.run_command(\"g.list\", type=\"raster\")"
   ]
  },
  {
   "cell_type": "markdown",
   "id": "4eeddc60-f441-43e1-8808-48acb025e3ee",
   "metadata": {},
   "source": [
    "**Try it yourself!**\n",
    "\n",
    "_The `r.info map=NAME` command will print information about the raster NAME. Execute `r.info` in Python._"
   ]
  },
  {
   "cell_type": "code",
   "execution_count": null,
   "id": "c7c2b38b-9ad1-4972-874d-0eb8554a7ef8",
   "metadata": {},
   "outputs": [],
   "source": []
  },
  {
   "cell_type": "markdown",
   "id": "78708a0b-d699-450d-b03e-cccbaf625135",
   "metadata": {},
   "source": [
    "The Python API also provides several wrapper functions for often called modules. The list of convenient wrapper functions with examples includes:\n",
    "\n",
    " * Raster metadata using [raster_info()](https://grass.osgeo.org/grass-stable/manuals/libpython/script.html#script.raster.raster_info): `gs.raster_info('dsm')`\n",
    " * Vector metadata using [vector_info()](https://grass.osgeo.org/grass-stable/manuals/libpython/script.html#script.vector.vector_info): `gs.vector_info('roads')`\n",
    " * List raster data in current location using [list_grouped()](https://grass.osgeo.org/grass-stable/manuals/libpython/script.html#script.core.list_grouped): `gs.list_grouped(type=['raster'])`\n",
    " * Get current computational region using [region()](https://grass.osgeo.org/grass-stable/manuals/libpython/script.html#script.core.region): `gs.region()`\n",
    " * Run raster algebra using [mapcalc()](https://grass.osgeo.org/grass-stable/manuals/libpython/script.html#script.raster.mapcalc): `gs.mapcalc()`"
   ]
  },
  {
   "cell_type": "markdown",
   "id": "1ca09e99-b840-4a2b-9ea1-4a3dfb881d24",
   "metadata": {},
   "source": [
    "_Try using `gs.raster_info` to print information about NAME._"
   ]
  },
  {
   "cell_type": "code",
   "execution_count": null,
   "id": "9a07a591-a0b6-4236-be03-baa3fd4e8715",
   "metadata": {},
   "outputs": [],
   "source": []
  },
  {
   "cell_type": "markdown",
   "id": "2a7034e4-ec9e-4f0d-ac14-6f0a9fd186dd",
   "metadata": {},
   "source": [
    "Now, for a more sophisticated example. Let's import all the NAIP images using a Python for loop."
   ]
  },
  {
   "cell_type": "code",
   "execution_count": null,
   "id": "05727433-a496-4c50-b30b-130a3cb95b50",
   "metadata": {},
   "outputs": [],
   "source": [
    "files = sorted(Path('/data/grass-workshop').glob('*.tif'))\n",
    "\n",
    "for file in files:\n",
    "    name = str(file)[21:-4]\n",
    "    print(\"importing \" + name)\n",
    "    gs.run_command(\"r.import\", input=file, output=name, resolution=\"value\", resolution_value=1)"
   ]
  },
  {
   "cell_type": "markdown",
   "id": "379878aa-b3ec-4548-a3d6-6171ced35259",
   "metadata": {
    "tags": []
   },
   "source": [
    "***\n",
    "\n",
    "## 7. Data Visualization with `grass.jupyter`\n",
    "\n",
    "`grass.jupyter.Map()` creates and displays GRASS maps as PNG images. `gj.Map()` accepts any GRASS display module as a method by replacing the \".\" with \"\\_\" in the module name. For example:"
   ]
  },
  {
   "cell_type": "code",
   "execution_count": null,
   "id": "96287897-3eda-4264-b554-f60559fc98a1",
   "metadata": {},
   "outputs": [],
   "source": [
    "example = gj.Map()\n",
    "example.d_rast(map=\"naip_2020.1\") # d.rast map=naip_2020.1\n",
    "example.d_barscale(bgcolor=\"none\") # d.barscale\n",
    "example.show()"
   ]
  },
  {
   "cell_type": "markdown",
   "id": "4574cd2a-5aa6-4e78-ae79-1ab6c88f300f",
   "metadata": {},
   "source": [
    "To display the image, we call the `show()` method. You can also save the image with the `save()` method."
   ]
  },
  {
   "cell_type": "markdown",
   "id": "df80aa5b-7fa4-4730-b481-5490165dc107",
   "metadata": {},
   "source": [
    "We also might want to make this a nice square. Instead of clipping the image, we can adjust the computational region.\n",
    "\n",
    "Here we use the `grow` parameter with a negative value to shrink the region by 100 m on each side. See the [`g.region`](https://grass.osgeo.org/grass-stable/manuals/g.region.html) manual page for more options."
   ]
  },
  {
   "cell_type": "code",
   "execution_count": null,
   "id": "9e43c73c-78c6-428a-98c7-eebe48d11872",
   "metadata": {
    "tags": []
   },
   "outputs": [],
   "source": [
    "!g.region grow=-100 -p"
   ]
  },
  {
   "cell_type": "markdown",
   "id": "bda5e8bd-e507-4d43-b213-247aa85e34f3",
   "metadata": {},
   "source": [
    "Now, it's a nice rectangle!"
   ]
  },
  {
   "cell_type": "code",
   "execution_count": null,
   "id": "d34f3d6b-54b4-4525-8ce4-4efab8175697",
   "metadata": {
    "tags": []
   },
   "outputs": [],
   "source": [
    "example = gj.Map(use_region=True)\n",
    "example.d_rast(map=\"naip_2020.1\") # d.rast map=naip_2020.1\n",
    "example.d_barscale() # d.barscale\n",
    "example.show()"
   ]
  },
  {
   "cell_type": "markdown",
   "id": "db0edaba-dc97-423a-b703-c99986f374c6",
   "metadata": {},
   "source": [
    "Let's save the region so we can use it later."
   ]
  },
  {
   "cell_type": "code",
   "execution_count": null,
   "id": "3106b02b-0d7e-4ae2-a393-06b9f534ea5f",
   "metadata": {
    "tags": []
   },
   "outputs": [],
   "source": [
    "!g.region save=jockeys_ridge"
   ]
  },
  {
   "cell_type": "markdown",
   "id": "3d310090-7743-4568-9cc3-c7c733da870a",
   "metadata": {},
   "source": [
    "**Try it yourself!**\n",
    "\n",
    "_Modify the following code to see NAIP imagery from other years. You can also try modifying the region and see how the displayed map changes - isn't that easier than clipping?!_"
   ]
  },
  {
   "cell_type": "code",
   "execution_count": null,
   "id": "ab5393b3-90c0-4e0f-a1e9-83758288433b",
   "metadata": {},
   "outputs": [],
   "source": [
    "example = gj.Map(use_region=True)\n",
    "example.d_rgb(red=\"naip_2020.1\", green=\"naip_2020.2\", blue=\"naip_2020.3\")\n",
    "example.d_barscale() # d.barscale\n",
    "example.show()"
   ]
  },
  {
   "cell_type": "markdown",
   "id": "488ac1bf-174b-49e0-aa9a-1afb2bf982d1",
   "metadata": {},
   "source": [
    "<details>\n",
    "    <summary>👉 <b>click to see an example</b></summary>\n",
    "    \n",
    "```python\n",
    "example.d_rgb(red=\"naip_2014.1\", green=\"naip_2014.2\", blue=\"naip_2014.3\")\n",
    "```\n",
    "</details>"
   ]
  }
 ],
 "metadata": {
  "kernelspec": {
   "display_name": "Python 3 (ipykernel)",
   "language": "python",
   "name": "python3"
  },
  "language_info": {
   "codemirror_mode": {
    "name": "ipython",
    "version": 3
   },
   "file_extension": ".py",
   "mimetype": "text/x-python",
   "name": "python",
   "nbconvert_exporter": "python",
   "pygments_lexer": "ipython3",
   "version": "3.9.9"
  }
 },
 "nbformat": 4,
 "nbformat_minor": 5
}
