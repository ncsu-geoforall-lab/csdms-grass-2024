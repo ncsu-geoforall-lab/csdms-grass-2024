{
 "cells": [
  {
   "cell_type": "markdown",
   "id": "1d973d6b-5ac1-47c5-b5dd-bb16e7fd672e",
   "metadata": {},
   "source": [
    "# Simple Storm Surge Inundation Modeling\n",
    "\n",
    "_**Caitlin Haedrich and Pratikshya Regmi**, North Carolina State University_\n",
    "\n",
    "\n",
    "In this example we will use some of GRASS GIS hydrology tools, namely:\n",
    "\n",
    "* [r.lake](https://grass.osgeo.org/grass-stable/manuals/r.lake.html): to fill a lake to a target water level from a given start point or seed raster\n",
    "* [r.lake.series](https://grass.osgeo.org/grass-stable/manuals/r.lake.series.html): addon which runs r.lake for different water levels\n"
   ]
  },
  {
   "cell_type": "markdown",
   "id": "575bdcb6-fee7-491b-a229-008d79d37ada",
   "metadata": {},
   "source": [
    "***\n",
    "\n",
    "## 1. Import Python Packages and Start GRASS Session"
   ]
  },
  {
   "cell_type": "code",
   "execution_count": null,
   "id": "f77f2240-2bc6-493b-9675-3d7c752f3c4d",
   "metadata": {
    "tags": []
   },
   "outputs": [],
   "source": [
    "# Import Python standard library and IPython packages we need.\n",
    "import subprocess\n",
    "import sys\n",
    "\n",
    "# Ask GRASS GIS where its Python packages are.\n",
    "sys.path.append(\n",
    "    subprocess.check_output([\"grass\", \"--config\", \"python_path\"], text=True).strip()\n",
    ")\n",
    "\n",
    "# Import the GRASS GIS packages we need.\n",
    "import grass.script as gs\n",
    "import grass.jupyter as gj"
   ]
  },
  {
   "cell_type": "markdown",
   "id": "6f3c3823-a54c-4c06-ad20-f77258a25a88",
   "metadata": {},
   "source": [
    "For this notebook, we'll make a new mapset so that all the innundation rasters we create are organized away from the PERMANENT mapset. Our elevation rasters are in PERMANENT so we can still access them from here."
   ]
  },
  {
   "cell_type": "code",
   "execution_count": null,
   "id": "261a6ef2-ee74-4cc4-a614-b3c0761d71ae",
   "metadata": {
    "tags": []
   },
   "outputs": [],
   "source": [
    "# Start GRASS Session\n",
    "gj.init(\"nags_head/PERMANENT\")\n",
    "\n",
    "# Make a new mapset for this part\n",
    "gs.run_command(\"g.mapset\", mapset=\"flooding\", location=\"nags_head\", flags=\"c\")"
   ]
  },
  {
   "cell_type": "code",
   "execution_count": null,
   "id": "e122963c-85eb-4637-9f55-3cb5f1754aaa",
   "metadata": {
    "tags": []
   },
   "outputs": [],
   "source": [
    "# gj.init(\"nags_head/flooding\"); # if re-running this notebook, no need to re-create the mapset"
   ]
  },
  {
   "cell_type": "markdown",
   "id": "ed5b7f4d-0c1d-4c6e-86ac-19eeb03bbdbc",
   "metadata": {},
   "source": [
    "Let's change the region to just the right half of the `jockeys_ridge` area."
   ]
  },
  {
   "cell_type": "code",
   "execution_count": null,
   "id": "23fccb4a-0b73-4b65-a3bd-9e9fd6876a6b",
   "metadata": {
    "tags": []
   },
   "outputs": [],
   "source": [
    "!g.region region=jockeys_ridge w=w+1200 -p"
   ]
  },
  {
   "cell_type": "code",
   "execution_count": null,
   "id": "813a8f9f-251b-4256-a205-8302169a5312",
   "metadata": {
    "tags": []
   },
   "outputs": [],
   "source": [
    "flood1 = gj.Map(use_region=True)\n",
    "flood1.d_rast(map=\"JR_2014\")\n",
    "flood1.show()"
   ]
  },
  {
   "cell_type": "markdown",
   "id": "5171ca2e-2121-40f0-bbdd-179c3899b57c",
   "metadata": {},
   "source": [
    "Finally, let's install the `r.lake.series` addon. GRASS GIS addons are installed with the `g.extension` tool."
   ]
  },
  {
   "cell_type": "code",
   "execution_count": null,
   "id": "1963dbbe-6e52-48da-9ad4-68d382a343c7",
   "metadata": {
    "tags": []
   },
   "outputs": [],
   "source": [
    "!g.extension extension=r.lake.series"
   ]
  },
  {
   "cell_type": "markdown",
   "id": "a0bf8472-d9be-4120-8f42-62c96e4774b5",
   "metadata": {},
   "source": [
    "***\n",
    "\n",
    "## 2. Remove Nulls"
   ]
  },
  {
   "cell_type": "markdown",
   "id": "c665f0ba-49a9-49f3-9f50-6fb482146a57",
   "metadata": {},
   "source": [
    "`r.lake` is a bathtub model. We'll place the fill point offshore. It also won't fill null cells so our first step will be to fill the nulls. We'll do this by: \n",
    "\n",
    "1. Creating a mask that includes small holes but excludes the nulls offshore (r.neighbors)\n",
    "2. Applying the mask and using r.fillnulls\n",
    "3. Remove the mask\n",
    "4. Fill the remaining, offshore nulls with a constant arbitrary value."
   ]
  },
  {
   "cell_type": "code",
   "execution_count": null,
   "id": "71b95849-f859-4713-bc49-5ad4ae70cca1",
   "metadata": {
    "tags": []
   },
   "outputs": [],
   "source": [
    "!r.neighbors input=JR_2014_mask output=JR_2014_wide_mask method=maximum size=11\n",
    "!r.mask raster=JR_2014_wide_mask\n",
    "!r.fillnulls input=JR_2014 output=JR_2014_filled method=bilinear\n",
    "!r.mask -r"
   ]
  },
  {
   "cell_type": "markdown",
   "id": "259ac6fd-0344-4079-a2d1-dd75dc2d61d0",
   "metadata": {},
   "source": [
    "Then, we will fill the offshore nulls with a constant value (-5 in this case)."
   ]
  },
  {
   "cell_type": "code",
   "execution_count": null,
   "id": "fe001c8c-90ef-4797-b24d-a29f93adc5ae",
   "metadata": {
    "tags": []
   },
   "outputs": [],
   "source": [
    "!r.mapcalc \"JR_2014_filled_bath = if(isnull(JR_2014_filled), -5.0, JR_2014_filled)\""
   ]
  },
  {
   "cell_type": "markdown",
   "id": "29e3f257-ff64-4340-b918-c55851a02e0b",
   "metadata": {},
   "source": [
    "Let's see the results!"
   ]
  },
  {
   "cell_type": "code",
   "execution_count": null,
   "id": "52ca3a8c-e5c9-4339-8a2d-4a52225d4dd9",
   "metadata": {
    "tags": []
   },
   "outputs": [],
   "source": [
    "!r.colors map=JR_2014_filled_bath color=elevation\n",
    "\n",
    "flood1 = gj.Map()\n",
    "flood1.d_rast(map=\"JR_2014_filled_bath\")\n",
    "flood1.show()"
   ]
  },
  {
   "cell_type": "markdown",
   "id": "7c057b60-9990-4df4-a964-81d0dd46c45f",
   "metadata": {},
   "source": [
    "***\n",
    "\n",
    "## 3. Create Fill Point "
   ]
  },
  {
   "cell_type": "code",
   "execution_count": null,
   "id": "331e1de9-7fcb-4604-8bca-d2456710d87f",
   "metadata": {
    "tags": []
   },
   "outputs": [],
   "source": [
    "fill_point = \"914151,250381\"\n",
    "\n",
    "gs.write_command(\"v.in.ascii\", input=\"-\", output=\"fill_point\", separator=\"comma\", stdin=fill_point)"
   ]
  },
  {
   "cell_type": "code",
   "execution_count": null,
   "id": "f977b853-4fdb-4a42-835a-6d920546afbf",
   "metadata": {
    "tags": []
   },
   "outputs": [],
   "source": [
    "flood1 = gj.Map()\n",
    "flood1.d_rast(map=\"JR_2014_filled_bath\")\n",
    "flood1.d_vect(map=\"fill_point\", icon=\"basic/pin\", size=20, fill_color=\"red\")\n",
    "flood1.show()"
   ]
  },
  {
   "cell_type": "markdown",
   "id": "520df721-dbd0-4b85-a07f-27e39807559c",
   "metadata": {},
   "source": [
    "***\n",
    "\n",
    "## 4. Run r.lake.series "
   ]
  },
  {
   "cell_type": "code",
   "execution_count": null,
   "id": "4f8e67c8-2893-4c05-a45d-3a10ac53e619",
   "metadata": {
    "tags": []
   },
   "outputs": [],
   "source": [
    "gs.run_command(\"r.lake.series\",\n",
    "                elevation=\"JR_2014_filled_bath\",\n",
    "                output=\"flooding\",\n",
    "                start_water_level=2.0,\n",
    "                end_water_level=4.0,\n",
    "                water_level_step=0.2,\n",
    "                coordinates=fill_point\n",
    "              )"
   ]
  },
  {
   "cell_type": "code",
   "execution_count": null,
   "id": "5520509f-faaf-4a3b-b99f-b4cb63c460a6",
   "metadata": {
    "tags": []
   },
   "outputs": [],
   "source": [
    "from io import StringIO\n",
    "import pandas as pd\n",
    "\n",
    "pd.read_csv(StringIO(gs.read_command(\"t.rast.list\", input=\"flooding\", separator=\"comma\")))"
   ]
  },
  {
   "cell_type": "markdown",
   "id": "bc395ff6-e0fa-4e5b-887f-73df539f46b1",
   "metadata": {},
   "source": [
    "r.lake.series creates a space-time dataset. We can use the [temporal modules](https://grass.osgeo.org/grass-stable/manuals/temporal.html) to further work with the data."
   ]
  },
  {
   "cell_type": "markdown",
   "id": "51e22d88-b904-4c3b-a804-3d7a9e0289d2",
   "metadata": {},
   "source": [
    "***\n",
    "\n",
    "## 5. Visualize the Results "
   ]
  },
  {
   "cell_type": "markdown",
   "id": "af541eac-3a46-4cb6-ba8d-6c3a59c3d084",
   "metadata": {},
   "source": [
    "Let's visualize the results:"
   ]
  },
  {
   "cell_type": "code",
   "execution_count": null,
   "id": "ce0b667a-1131-4f6c-8b74-2b930e183e8e",
   "metadata": {
    "tags": []
   },
   "outputs": [],
   "source": [
    "flood1 = gj.Map()\n",
    "flood1.d_rast(map=\"flooding_4.0\")\n",
    "flood1.show()"
   ]
  },
  {
   "cell_type": "markdown",
   "id": "299ceec7-3e4f-40a2-a128-be0799afa175",
   "metadata": {},
   "source": [
    "We can make a nicer visual."
   ]
  },
  {
   "cell_type": "code",
   "execution_count": null,
   "id": "da231b83-3b86-43c9-ad01-ed73bf600932",
   "metadata": {
    "tags": []
   },
   "outputs": [],
   "source": [
    "# First create a hillshade (the DEM was created with a resolution of 4 so we will compute the relief with the same)\n",
    "\n",
    "!g.region res=4\n",
    "!r.relief input=JR_2014_filled_bath output=JR_2014_shade zscale=2\n",
    "!g.region res=1"
   ]
  },
  {
   "cell_type": "code",
   "execution_count": null,
   "id": "bafcf144-7c5a-4cf7-93b8-20c6a17dbaeb",
   "metadata": {
    "tags": []
   },
   "outputs": [],
   "source": [
    "gs.run_command(\"t.rast.colors\", input=\"flooding\", color=\"water\")\n",
    "\n",
    "timemap = gj.TimeSeriesMap()\n",
    "timemap.d_shade(shade=\"JR_2014_shade\", color=\"naip_rgb\")\n",
    "timemap.add_raster_series(\"flooding\")\n",
    "timemap.d_legend(at=(50, 90, 80, 85))\n",
    "#timemap.show() "
   ]
  },
  {
   "cell_type": "code",
   "execution_count": null,
   "id": "9f268ab4-a3bf-472b-93e6-8af5b39b05d5",
   "metadata": {
    "tags": []
   },
   "outputs": [],
   "source": [
    "timemap.save(filename=\"flood.gif\");"
   ]
  },
  {
   "cell_type": "code",
   "execution_count": null,
   "id": "ac93b731-c6e2-4212-8c91-02c3a0aa2576",
   "metadata": {
    "tags": []
   },
   "outputs": [],
   "source": [
    "from IPython.display import display, Image\n",
    "\n",
    "display(Image(filename=\"flood.gif\", width=400))"
   ]
  },
  {
   "cell_type": "markdown",
   "id": "0bc00ebc-10a7-4628-9efb-dc6524cc75be",
   "metadata": {},
   "source": [
    "## Further Readings\n",
    "\n",
    "[Clinch, A.S., Russ, E.,Oliver, R.C., Mitasova H., and Overton, M.F. 2012, Remote sensing estimation of Hurricane Irene soundside surge elevations on the North Carolina Outer Banks, Shore and Beach 80, p. 1-10.](https://geospatial.ncsu.edu/geoforall/publications/clinch_shorepaper2012.pdf)"
   ]
  },
  {
   "cell_type": "code",
   "execution_count": null,
   "id": "0fd1af62-0912-4aea-a469-3b346b470ba7",
   "metadata": {},
   "outputs": [],
   "source": []
  }
 ],
 "metadata": {
  "kernelspec": {
   "display_name": "GRASS GIS",
   "language": "python",
   "name": "grass"
  },
  "language_info": {
   "codemirror_mode": {
    "name": "ipython",
    "version": 3
   },
   "file_extension": ".py",
   "mimetype": "text/x-python",
   "name": "python",
   "nbconvert_exporter": "python",
   "pygments_lexer": "ipython3",
   "version": "3.12.2"
  }
 },
 "nbformat": 4,
 "nbformat_minor": 5
}
