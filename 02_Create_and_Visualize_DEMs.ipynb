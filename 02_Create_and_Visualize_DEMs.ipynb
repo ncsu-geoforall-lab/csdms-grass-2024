{
 "cells": [
  {
   "cell_type": "markdown",
   "id": "e6c369d0-dbda-4512-9ea8-bb00f41a98f3",
   "metadata": {
    "tags": []
   },
   "source": [
    "# Creating and Visualizing DEMs from LIDAR points\n",
    "\n",
    "_**Caitlin Haedrich and Pratikshya Regmi**, North Carolina State University_\n",
    "\n",
    "In this notebook we will:\n",
    "* Create high-quality DEMs from LiDAR point clouds and compute topographic parameters\n",
    "* Create webmap visualizations\n"
   ]
  },
  {
   "cell_type": "markdown",
   "id": "1f3ec894-315b-4ab4-b903-bd439d6ecca9",
   "metadata": {
    "tags": []
   },
   "source": [
    "***\n",
    "\n",
    "## 1. Import Python Packages and Start GRASS GIS Session"
   ]
  },
  {
   "cell_type": "markdown",
   "id": "04cff3bd-1329-4b05-b4da-33df4a5b6edc",
   "metadata": {},
   "source": [
    "Import Python standard library and IPython packages we need. Start GRASS session in Nags Head project."
   ]
  },
  {
   "cell_type": "code",
   "execution_count": null,
   "id": "97b83952-fa74-4567-a5ac-242b3b32eec3",
   "metadata": {
    "tags": []
   },
   "outputs": [],
   "source": [
    "import subprocess\n",
    "import sys\n",
    "from pathlib import Path\n",
    "\n",
    "sys.path.append(\n",
    "    subprocess.check_output([\"grass\", \"--config\", \"python_path\"], text=True, shell=False).strip()\n",
    ")\n",
    "\n",
    "import grass.script as gs\n",
    "import grass.jupyter as gj\n",
    "\n",
    "gj.init(\"./nags_head/PERMANENT\");"
   ]
  },
  {
   "cell_type": "code",
   "execution_count": null,
   "id": "b38ef6ff-7dfd-4060-b8fa-977816420b27",
   "metadata": {
    "tags": []
   },
   "outputs": [],
   "source": [
    "!g.region -p region=jockeys_ridge"
   ]
  },
  {
   "cell_type": "markdown",
   "id": "03817c6f-0dc3-42a1-b35e-44683899418a",
   "metadata": {},
   "source": [
    "**Try it yourself!**\n",
    "\n",
    "_Did you modify the computational region at the end of the previous notebook? If so, note if those changes are reflected in this notebook. Use `g.region` to switch back to the `jockeys_ridge` saved region._"
   ]
  },
  {
   "cell_type": "code",
   "execution_count": null,
   "id": "f602fcd9-0115-4a31-a8ab-11504dea5973",
   "metadata": {},
   "outputs": [],
   "source": []
  },
  {
   "cell_type": "markdown",
   "id": "dbd479b7-7ab8-4210-b145-c3e7c8110369",
   "metadata": {},
   "source": [
    "<details>\n",
    "    <summary>👉 <b>click for solution</b></summary>\n",
    "    \n",
    "The computational region is saved in the mapset so moving to a new notebook or starting a new session will not affect it.\n",
    "```\n",
    "!g.region -p region=jockeys_ridge\n",
    "```\n",
    "</details>"
   ]
  },
  {
   "cell_type": "markdown",
   "id": "83fcb778-3c1a-49e8-8f64-33731d729e56",
   "metadata": {},
   "source": [
    "***\n",
    "\n",
    "## 2. Create a DEM "
   ]
  },
  {
   "cell_type": "code",
   "execution_count": null,
   "id": "3ced7f10-c754-4e90-a154-e665ada0ffb1",
   "metadata": {
    "tags": []
   },
   "outputs": [],
   "source": [
    "lidar_files = sorted(Path('/data/grass-workshop').glob('*.las'))\n",
    "lidar_files"
   ]
  },
  {
   "cell_type": "markdown",
   "id": "53a5dbef-f25a-4340-b406-1fc1faf821ad",
   "metadata": {
    "tags": []
   },
   "source": [
    "### _Optional: What resolution should we use?_"
   ]
  },
  {
   "cell_type": "markdown",
   "id": "5f1f0547-cf0c-4868-9114-084320c1b628",
   "metadata": {
    "jp-MarkdownHeadingCollapsed": true,
    "tags": []
   },
   "source": [
    "To determine an appropriate resolution for our DEM, we use `r.in.pdal` to create a raster with the point count in each cell and vary the resolution. If we have at least 1 point per cell, we can use a binning approach. If we'd like to have a higher resolution than that, we should use a binning approach."
   ]
  },
  {
   "cell_type": "code",
   "execution_count": null,
   "id": "f5128bf0-95ee-4117-b397-f9eded3e1019",
   "metadata": {
    "tags": []
   },
   "outputs": [],
   "source": [
    "res_options = [1,2,5,10]\n",
    "\n",
    "for res in res_options:\n",
    "    # Set the resolution\n",
    "    gs.run_command(\"g.region\", res=res)\n",
    "    # Import the lidar data as a raster with count method which returns the points per cell\n",
    "    gs.run_command(\"r.in.pdal\", input=\"/data/grass-workshop/JR_2014.las\", output=\"JR_2014_count\", method=\"n\", flags=\"w\")\n",
    "    # Compute univariate raster stats\n",
    "    stats = gs.parse_command(\"r.univar\", flags='ge', map=\"JR_2014_count\")\n",
    "    print(f\"{res}m     Mean points per cell: {stats[\"mean\"]}\")"
   ]
  },
  {
   "cell_type": "markdown",
   "id": "af994bc2-3955-4f0b-a862-a3368024702b",
   "metadata": {},
   "source": [
    "### Mask low density areas\n",
    "\n",
    "Interpolating or creating a binned a DEM from LiDAR points is only meaningful where there is adequate point coverage. So, our first step will be to mask areas that have low point densities before we create our DEM. This also will make our code run faster!"
   ]
  },
  {
   "cell_type": "code",
   "execution_count": null,
   "id": "b1350c0a-b0ae-46a9-9d70-8b21d8111144",
   "metadata": {
    "tags": []
   },
   "outputs": [],
   "source": [
    "!g.region region=\"jockeys_ridge\" res=2"
   ]
  },
  {
   "cell_type": "code",
   "execution_count": null,
   "id": "f8e59307-aeb2-4c83-9527-ff05a7faf6b0",
   "metadata": {},
   "outputs": [],
   "source": [
    "gs.run_command(\"r.in.pdal\", input=\"/data/grass-workshop/JR_2014.las\", output=\"JR_2014_count\", method=\"n\", flags=\"w\")\n",
    "gs.mapcalc(exp=\"JR_2014_mask=if(JR_2014_count == 0, null(), 1 )\")"
   ]
  },
  {
   "cell_type": "code",
   "execution_count": null,
   "id": "21e792ff-122c-4ed0-98d0-c8554fc165d5",
   "metadata": {},
   "outputs": [],
   "source": [
    "mask = gj.Map(use_region=True)\n",
    "mask.d_rgb(red=\"naip_2014.1\", green=\"naip_2014.2\", blue=\"naip_2014.3\")\n",
    "mask.d_rast(map=\"JR_2014_mask\")\n",
    "mask.show()"
   ]
  },
  {
   "cell_type": "code",
   "execution_count": null,
   "id": "3d7734fe-2081-4d11-929d-b03b6d1cfcf0",
   "metadata": {},
   "outputs": [],
   "source": [
    "!r.mask raster=JR_2014_mask"
   ]
  },
  {
   "cell_type": "markdown",
   "id": "3d16eb35-3f35-4fd9-b910-10047c4ec147",
   "metadata": {},
   "source": [
    "### Create DEM with Binning"
   ]
  },
  {
   "cell_type": "code",
   "execution_count": null,
   "id": "eaed0a3a-cfe5-41f0-b9a9-6df3a473974e",
   "metadata": {},
   "outputs": [],
   "source": [
    "gs.run_command(\"r.in.pdal\", input=\"/data/grass-workshop/JR_2014.las\", output=\"JR_2014_raw\", method=\"mean\", flags=\"w\")"
   ]
  },
  {
   "cell_type": "code",
   "execution_count": null,
   "id": "48f92bc1-a070-4d9c-b210-f262b99123e3",
   "metadata": {},
   "outputs": [],
   "source": [
    "!r.mask -r"
   ]
  },
  {
   "cell_type": "code",
   "execution_count": null,
   "id": "dbdcc0e2-2768-4cfb-8e3b-4c6328e4fa6c",
   "metadata": {
    "tags": []
   },
   "outputs": [],
   "source": [
    "gs.run_command(\"r.fill.stats\", input=\"JR_2014_raw\", output=\"JR_2014\", distance=5, mode=\"wmean\", power=2.0, cells=8)"
   ]
  },
  {
   "cell_type": "markdown",
   "id": "e53e9ae2-3291-4b70-a3da-06e217f755a8",
   "metadata": {},
   "source": [
    "You can also compute DEMs with a higher resolution than the point sampling distance using splines with either the [v.surf.rst](https://grass.osgeo.org/grass83/manuals/v.surf.rst.html) or [v.surf.bspline](https://grass.osgeo.org/grass83/manuals/v.surf.bspline.html) tools.\n",
    "\n",
    "See Section 2.3.3 of [Hardin et al (2014)](https://link.springer.com/chapter/10.1007/978-1-4939-1835-5_2#Sec3) for more."
   ]
  },
  {
   "cell_type": "markdown",
   "id": "86254dad-a2cc-4571-8c32-a3a9dff2d12b",
   "metadata": {
    "tags": []
   },
   "source": [
    "### Visualize DEM"
   ]
  },
  {
   "cell_type": "markdown",
   "id": "79469cf6-8d29-4758-838b-7ff256ac1d22",
   "metadata": {},
   "source": [
    "_A static map made with_ `gj.Map`."
   ]
  },
  {
   "cell_type": "code",
   "execution_count": null,
   "id": "4e1dff38-f2fa-4540-95ef-cf4b188007fe",
   "metadata": {},
   "outputs": [],
   "source": [
    "elev = gj.Map()\n",
    "elev.d_rast(map=\"JR_2014\")\n",
    "elev.show()"
   ]
  },
  {
   "cell_type": "markdown",
   "id": "53ba76bc-1203-49fa-a2c4-24e0bc06884a",
   "metadata": {},
   "source": [
    "_A leaflet map made with_ `gj.InteractiveMap()`"
   ]
  },
  {
   "cell_type": "code",
   "execution_count": null,
   "id": "7623d985-e517-469a-82b9-d7b93c823928",
   "metadata": {},
   "outputs": [],
   "source": [
    "fig = gj.InteractiveMap(width=800, tiles=\"OpenStreetMap\")\n",
    "fig.add_raster(\"JR_2014\")\n",
    "fig.add_layer_control()\n",
    "fig.show()"
   ]
  },
  {
   "cell_type": "markdown",
   "id": "9182a8ac-2a6a-4a85-a57a-de2b09809953",
   "metadata": {},
   "source": [
    "### Create DEM with Splining"
   ]
  },
  {
   "cell_type": "markdown",
   "id": "ada0ec95-ebc2-4b33-946b-ea81b0e72ccf",
   "metadata": {},
   "source": [
    "If we'd like to create a DEM with less than 1 point per cell, we'll have to use an interpolation approach. Here's an example showing how to do a regularized spline with tension in GRASS. We will:\n",
    "1. Set the computational region\n",
    "2. Import the point cloud as vector points\n",
    "3. Use a regularized spline with tension (rst) to interpolate the surface from the points\n",
    "\n",
    "Splining is computational intensive so we'll shrink our region by a little bit to help. Because we'll be interpolating from points, we can create a higher resolution raster. We'll set the resolution to 2 meters here."
   ]
  },
  {
   "cell_type": "code",
   "execution_count": null,
   "id": "f6088012-8b87-4e85-abb8-523321d626fd",
   "metadata": {
    "tags": []
   },
   "outputs": [],
   "source": [
    "!g.region -p res=1 grow=-200"
   ]
  },
  {
   "cell_type": "markdown",
   "id": "5bb719f4-98f8-462c-b7dd-03dfb3a54d96",
   "metadata": {},
   "source": [
    "Import the bare earth point cloud as a vector using PDAL. The \"w\" flag will reproject the points if necessary. The \"r\" will limit the import to only the current computational region and the \"c\" flag "
   ]
  },
  {
   "cell_type": "code",
   "execution_count": null,
   "id": "1234d6b4-c307-4660-a66e-c119c8511184",
   "metadata": {
    "tags": []
   },
   "outputs": [],
   "source": [
    "gs.run_command(\"v.in.pdal\", input=\"/data/grass-workshop/JR_2014.las\", output=\"JR_2014\", flags=\"wrc\") "
   ]
  },
  {
   "cell_type": "markdown",
   "id": "5ef93047-2b73-44f2-82ca-24c4c3503259",
   "metadata": {},
   "source": [
    "Now, we can interpolate using the RST algorithm. Visit [the manual page](https://grass.osgeo.org/grass83/manuals/v.surf.rst.html) for more info."
   ]
  },
  {
   "cell_type": "code",
   "execution_count": null,
   "id": "3b2f654a-7957-4820-9ff7-7420eb37b6e5",
   "metadata": {
    "tags": []
   },
   "outputs": [],
   "source": [
    "# Interpolate using RST\n",
    "gs.run_command(\"v.surf.rst\", input=\"JR_2014\", elev=\"JR_2014_spline\", tension=40, npmin=100, segmax=15, dmin=2)"
   ]
  },
  {
   "cell_type": "code",
   "execution_count": null,
   "id": "58ceb7ba-cb96-43b6-95ee-98f1222ecf34",
   "metadata": {
    "tags": []
   },
   "outputs": [],
   "source": [
    "gs.run_command(\"r.colors\", map=\"JR_2014\", color=\"elevation\")"
   ]
  },
  {
   "cell_type": "code",
   "execution_count": null,
   "id": "21b59542-2f3b-4fc3-a0a5-66a8eda7f36b",
   "metadata": {
    "tags": []
   },
   "outputs": [],
   "source": [
    "fig = gj.InteractiveMap(width=800, tiles=\"OpenStreetMap\")\n",
    "fig.add_raster(\"JR_2014_spline\")\n",
    "fig.add_raster(\"JR_2014\")\n",
    "fig.add_layer_control()\n",
    "fig.show()"
   ]
  },
  {
   "cell_type": "markdown",
   "id": "68fc8937-9135-4a2d-8273-a604040b5d77",
   "metadata": {},
   "source": [
    "**Try it yourself!**\n",
    "\n",
    "`v.surf.rst` _is a powerful tool for interpolating LiDAR surfaces [(Mitasova et al, 2005)](https://ieeexplore.ieee.org/document/1522204). Look at the documentation for v.surf.rst and adjust the parameters to see how they affect the resulting DEM. How does tension change the result? What happens if you change the resolution of the computational region?_"
   ]
  },
  {
   "cell_type": "code",
   "execution_count": null,
   "id": "fa605e2b-5270-4b8e-90eb-7a2c8818e3e4",
   "metadata": {},
   "outputs": [],
   "source": []
  },
  {
   "cell_type": "markdown",
   "id": "468f5a97-f78a-4ab1-8c1d-dab65b1df09f",
   "metadata": {},
   "source": [
    "<details>\n",
    "    <summary>👉 <b>click to see an example</b></summary>\n",
    "\n",
    "```\n",
    "! v.surf.rst --help\n",
    "``` \n",
    "    \n",
    "```python\n",
    "gs.run_command(\"v.surf.rst\", input=\"JR_2014\", elev=\"JR_2014_spline\", tension=10, smooth=0)\n",
    "```\n",
    "</details>"
   ]
  },
  {
   "cell_type": "markdown",
   "id": "065f5db0-851c-491e-b7e4-1f2c9d3446bb",
   "metadata": {
    "tags": []
   },
   "source": [
    "## 3. Bulk DEM Creation with Python"
   ]
  },
  {
   "cell_type": "code",
   "execution_count": null,
   "id": "9966c44e-c50c-48d5-bad8-528f2355e7e1",
   "metadata": {
    "tags": []
   },
   "outputs": [],
   "source": [
    "lidar_files "
   ]
  },
  {
   "cell_type": "markdown",
   "id": "1e9b2329-410e-4ce6-a23e-763c3a44cb7b",
   "metadata": {},
   "source": [
    "Some of our files have very low resolution and will work better with splines. Some others have greater point density and can be binned. We'll make a function for each type of import."
   ]
  },
  {
   "cell_type": "code",
   "execution_count": null,
   "id": "ae69ef34-3b2d-42de-b547-8f6ebb352d70",
   "metadata": {},
   "outputs": [],
   "source": [
    "def binning_import(file, res):\n",
    "    gs.run_command(\"g.region\", region=\"jockeys_ridge\", res=res)\n",
    "    \n",
    "    # Create density mask\n",
    "    output_name = file.stem\n",
    "    gs.run_command(\"r.in.pdal\", input=file, output=output_name+'_count', method=\"n\", flags=\"w\")\n",
    "    gs.mapcalc(exp=f\"{output_name}_mask=if({output_name}_count == 0, null(), 1 )\")\n",
    "    \n",
    "    # Set Mask\n",
    "    gs.run_command(\"r.mask\", raster=f\"{output_name}_mask\")\n",
    "\n",
    "    # Binning\n",
    "    gs.run_command(\"r.in.pdal\", input=file, output=f\"{output_name}_raw\", method=\"mean\", flags=\"w\") #create binned raster\n",
    "    gs.run_command(\"r.mask\", flags=\"r\") # remove mask\n",
    "    gs.run_command(\"r.fill.stats\", input=f\"{output_name}_raw\", output=output_name, distance=5, mode=\"wmean\", power=2.0, cells=8)\n",
    "    print(f\"imported {file.stem}\")"
   ]
  },
  {
   "cell_type": "code",
   "execution_count": null,
   "id": "d2455dd2-7cd2-4a63-93ea-30f5997b0bdf",
   "metadata": {
    "tags": []
   },
   "outputs": [],
   "source": [
    "def rst_import(file, res):\n",
    "    \n",
    "    # Create density mask\n",
    "    output_name = file.stem\n",
    "    gs.run_command(\"g.region\", region=\"jockeys_ridge\", res=20) # Let's create a mask so we don't interpolate over open ocean or anything\n",
    "    gs.run_command(\"r.in.pdal\", input=file, output=output_name+'_count', method=\"n\", flags=\"w\")\n",
    "    gs.mapcalc(exp=f\"{output_name}_mask=if({output_name}_count == 0, null(), 1 )\")\n",
    "\n",
    "    # Reset resolution to desired res, import and spline\n",
    "    gs.run_command(\"g.region\", res=res)\n",
    "    gs.run_command(\"v.in.pdal\", input=file, output=output_name, flags=\"wrc\")\n",
    "    gs.run_command(\n",
    "        \"v.surf.rst\",\n",
    "        input=output_name,\n",
    "        elev=f\"{output_name}\",\n",
    "        tension=40,\n",
    "        npmin=50,\n",
    "        segmax=30,\n",
    "        mask=f\"{output_name}_mask\"\n",
    "    )\n",
    "    print(f\"imported {file.stem}\")"
   ]
  },
  {
   "cell_type": "markdown",
   "id": "a3231977-5874-4b50-a09e-75c186d0a17f",
   "metadata": {},
   "source": [
    "Then, we import all the files!"
   ]
  },
  {
   "cell_type": "code",
   "execution_count": null,
   "id": "a9cdc3d1-8b3b-4585-8667-6454c9748f84",
   "metadata": {
    "tags": []
   },
   "outputs": [],
   "source": [
    "binned = lidar_files[1:4]+lidar_files[5:]\n",
    "binned"
   ]
  },
  {
   "cell_type": "code",
   "execution_count": null,
   "id": "c067338c-3365-4177-a451-b7dad74f3513",
   "metadata": {
    "tags": []
   },
   "outputs": [],
   "source": [
    "# 4 meter resolution binned\n",
    "for file in binned:\n",
    "    binning_import(file, 4)"
   ]
  },
  {
   "cell_type": "markdown",
   "id": "3315e779-2c94-4abe-bbc4-293dabd69164",
   "metadata": {
    "tags": []
   },
   "source": [
    "### Splined clouds (1996, 1999_0918)\n",
    "rst_import(lidar_files[0], 4)\n",
    "rst_import(lidar_files[4], 4)"
   ]
  },
  {
   "cell_type": "markdown",
   "id": "5a2a55bf-410f-488a-be2e-239d8dcc0bf7",
   "metadata": {},
   "source": [
    "**Try it yourself!**\n",
    "\n",
    "_Visualize some of the DEMs we created. Use r.info to learn more about them._"
   ]
  },
  {
   "cell_type": "code",
   "execution_count": null,
   "id": "c99b86a2-80ab-4073-a62d-d48d275f90c8",
   "metadata": {},
   "outputs": [],
   "source": []
  }
 ],
 "metadata": {
  "kernelspec": {
   "display_name": "GRASS GIS",
   "language": "python",
   "name": "grass"
  },
  "language_info": {
   "codemirror_mode": {
    "name": "ipython",
    "version": 3
   },
   "file_extension": ".py",
   "mimetype": "text/x-python",
   "name": "python",
   "nbconvert_exporter": "python",
   "pygments_lexer": "ipython3",
   "version": "3.12.2"
  }
 },
 "nbformat": 4,
 "nbformat_minor": 5
}
