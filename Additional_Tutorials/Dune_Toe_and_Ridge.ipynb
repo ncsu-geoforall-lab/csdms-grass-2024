{
 "cells": [
  {
   "cell_type": "markdown",
   "id": "126a25ee-88e1-4f1d-a445-41d8adb4f9c8",
   "metadata": {},
   "source": [
    "# Dune Toe and Dune Ridge Feature Extraction"
   ]
  },
  {
   "cell_type": "markdown",
   "id": "bbd2dfbd-b9d2-4fac-9995-8b5e3ab80e55",
   "metadata": {},
   "source": [
    "*Disclaimer: This notebook is in draft form and may require adjustments to run smoothly. If you encounter any issues, please inform us so we can assist you.* \n",
    "\n",
    "Shoreline dune migration refers to the natural movement of sand dunes along coastal areas. This process is driven by various factors, primarily wind but also waves and tidal currents. The sand is transported from one place to another, causing the dunes to gradually shift in position and shape over time.\n",
    "\n",
    "This migration is an important natural phenomenon because it affects coastal ecosystems, wildlife habitats, and even human infrastructure. The movement of dunes can provide natural coastal protection against storms and sea-level rise, but it can also pose challenges for coastal management, especially in areas where development is close to the shore.\n",
    "\n",
    "Monitoring and managing dune migration are crucial for maintaining the balance between protecting natural landscapes and supporting human activities along coastlines. The following figures shows the shorelines dune migration (images from [Hardin et al. (2014)](https://link.springer.com/chapter/10.1007/978-1-4939-1835-5_4).\n",
    "\n",
    "Based on [Hardin et al. (2014)](https://link.springer.com/chapter/10.1007/978-1-4939-1835-5_4)\n",
    "\n",
    "![](../img/dunes_migration.png)\n",
    "\n",
    "![](../img/dunes_migration_1.png)"
   ]
  },
  {
   "cell_type": "markdown",
   "id": "c79df578-24a3-4394-b834-2d7ea947149f",
   "metadata": {},
   "source": [
    "***\n",
    "\n",
    "## 1. Import Python Packages"
   ]
  },
  {
   "cell_type": "code",
   "execution_count": null,
   "id": "ed8f7ee8-5151-411c-9425-42e86ddc84f2",
   "metadata": {
    "tags": []
   },
   "outputs": [],
   "source": [
    "import subprocess\n",
    "import sys\n",
    "from pathlib import Path\n",
    "\n",
    "sys.path.append(\n",
    "    subprocess.check_output([\"grass\", \"--config\", \"python_path\"], text=True, shell=False).strip()\n",
    ")\n",
    "\n",
    "import grass.script as gs\n",
    "import grass.jupyter as gj"
   ]
  },
  {
   "cell_type": "markdown",
   "id": "8829189a-6558-4767-9e32-0a9f86a953af",
   "metadata": {},
   "source": [
    "***\n",
    "\n",
    "## 2. Start GRASS Session"
   ]
  },
  {
   "cell_type": "code",
   "execution_count": null,
   "id": "b00c3978-8265-43e5-8c60-ec64e219a4b4",
   "metadata": {
    "tags": []
   },
   "outputs": [],
   "source": [
    "gj.init(\"nags_head/PERMANENT\")\n"
   ]
  },
  {
   "cell_type": "code",
   "execution_count": null,
   "id": "12fa9349-4ef4-4083-b089-6e979a9484b4",
   "metadata": {
    "tags": []
   },
   "outputs": [],
   "source": [
    "!g.region raster=\"JR_2014\" -p"
   ]
  },
  {
   "cell_type": "markdown",
   "id": "0f2add8a-c76d-4411-8438-576448bbf24e",
   "metadata": {},
   "source": [
    "***\n",
    "\n",
    "## 3. Foredune Ridge Line\n",
    "* Purpose: Extract a dune ridge as a least cost path.\n",
    "\n",
    "* Specify two points that were manually selected at\n",
    "\n",
    "* opposite ends of dune ridge.\n",
    "\n",
    "* Compute cost surface."
   ]
  },
  {
   "cell_type": "code",
   "execution_count": null,
   "id": "93e4d1a5-e0db-43a5-b946-f0e2a71857cb",
   "metadata": {
    "tags": []
   },
   "outputs": [],
   "source": [
    "# Compute cost surface.\n",
    "!r.mapcalc expression='cost=exp(-2*JR_2014)' --o  \n",
    "\n",
    "# Compute a cumulative cost surface.\n",
    "!r.cost -k input=cost output=cumulative_cost start_coordinates='913859,250658' stop_coordinates='914305,249739' --o\n",
    "\n",
    "# Calculate the least coast path.\n",
    "!r.drain input=cumulative_cost output=JR_2014_duneRidge start_coordinates='914305,249739' --o\n",
    "# Extract dune ridge.\n",
    "\n",
    "!r.mapcalc \\\n",
    "expression='JR_2014_duneRidge=float\\\n",
    "(JR_2014_duneRidge)*JR_2014' --o\n"
   ]
  },
  {
   "cell_type": "code",
   "execution_count": null,
   "id": "e1a53083-4f45-4df8-b07b-ff1b396c64d2",
   "metadata": {
    "tags": []
   },
   "outputs": [],
   "source": [
    "!r.to.vect -s input=JR_2014_duneRidge output=JR_2014_duneRidge_vector type=line"
   ]
  },
  {
   "cell_type": "markdown",
   "id": "a84556b6-541e-41e4-bef7-7a04ec5c4ecc",
   "metadata": {},
   "source": [
    "***\n",
    "\n",
    "## 4. Visualization"
   ]
  },
  {
   "cell_type": "code",
   "execution_count": null,
   "id": "e293b105-aa85-4253-85c8-aecde191eddd",
   "metadata": {
    "tags": []
   },
   "outputs": [],
   "source": [
    "!r.colors map=JR_2014 color=elevation\n",
    "!r.colors map=JR_2014_duneRidge color=blue\n",
    "\n",
    "fig = gj.InteractiveMap(width=800, tiles=\"OpenStreetMap\")\n",
    "fig.add_raster(\"JR_2014\")\n",
    "fig.add_vector(\"JR_2014_duneRidge_vector\")\n",
    "fig.add_layer_control()\n",
    "fig.show()"
   ]
  },
  {
   "cell_type": "markdown",
   "id": "a6ad0132-207d-437b-b822-c606ea192dcb",
   "metadata": {},
   "source": [
    "***\n",
    "\n",
    "## 4. Foredune Toe Line\n",
    "* Purpose: Compute dune toe line with elastic sheet"
   ]
  },
  {
   "cell_type": "code",
   "execution_count": null,
   "id": "ba864447-6d47-4e36-909a-f05091f359b8",
   "metadata": {
    "tags": []
   },
   "outputs": [],
   "source": [
    "!g.list type=vect"
   ]
  },
  {
   "cell_type": "code",
   "execution_count": null,
   "id": "4e957268-34c8-4e2c-874e-b73ff7cf5636",
   "metadata": {
    "tags": []
   },
   "outputs": [],
   "source": [
    "!g.list type=rast"
   ]
  },
  {
   "cell_type": "code",
   "execution_count": null,
   "id": "34876177-43b5-4911-9629-afc369f8301c",
   "metadata": {
    "tags": []
   },
   "outputs": [],
   "source": [
    "#!v.build map=JR_2014 option=build"
   ]
  },
  {
   "cell_type": "code",
   "execution_count": null,
   "id": "dc8fb565-f35a-4ea1-8072-dd7f19b4854d",
   "metadata": {
    "tags": []
   },
   "outputs": [],
   "source": [
    "# conditions for efficiency.\n",
    "gs.run_command( 'v.patch', input='JR_2014_duneRidge_vector,JR_2014_08m', output='sheet_BC')"
   ]
  },
  {
   "cell_type": "code",
   "execution_count": null,
   "id": "b130aa70-4980-4679-b6a2-a455a0f0a8e2",
   "metadata": {
    "tags": []
   },
   "outputs": [],
   "source": [
    "gs.run_command( 'g.region', vect='sheet_BC' )"
   ]
  },
  {
   "cell_type": "code",
   "execution_count": null,
   "id": "6898a46c-cc54-4517-aad1-76713c25f05d",
   "metadata": {
    "tags": []
   },
   "outputs": [],
   "source": [
    "gs.run_command( 'v.to.rast', input='JR_2014_08m', output='JR_2014_08m', use='val', value='0.8' )"
   ]
  },
  {
   "cell_type": "code",
   "execution_count": null,
   "id": "340a8d4e-9725-4c00-96c0-bef91b04ce84",
   "metadata": {
    "tags": []
   },
   "outputs": [],
   "source": [
    "gs.run_command( 'r.patch', input='JR_2014_duneRidge,JR_2014_08m', output='sheet_BC', overwrite=True)"
   ]
  },
  {
   "cell_type": "code",
   "execution_count": null,
   "id": "1a9cfbb5-d742-49ec-8a85-682e2b0c9f97",
   "metadata": {
    "tags": []
   },
   "outputs": [],
   "source": [
    "gs.run_command( 'g.copy', rast='JR_2014,sheet' )"
   ]
  },
  {
   "cell_type": "code",
   "execution_count": null,
   "id": "261e527e-ef0c-4c6a-98ce-95abab1c0fe7",
   "metadata": {
    "tags": []
   },
   "outputs": [],
   "source": [
    "iterations = 3000\n",
    "for i in range(iterations):\n",
    "    #print (i)\n",
    "    gs.run_command( 'r.neighbors', flags='c', input='sheet', output='sheet', method='average', size=3, overwrite=True )\n",
    "    gs.run_command( 'r.patch', input='sheet_BC,sheet', output='sheet', overwrite=True )\n",
    "gs.run_command( 'r.colors', map='sheet', rast='JR_2014' )"
   ]
  },
  {
   "cell_type": "code",
   "execution_count": null,
   "id": "03181bb2-fb82-4a41-a137-87b81dbe8a53",
   "metadata": {
    "tags": []
   },
   "outputs": [],
   "source": [
    "\n",
    "# Make small null buffer around dune ridge and\n",
    "\n",
    "# shoreline to keep extracted toe between them.\n",
    "\n",
    "gs.run_command( 'r.buffer', input='sheet_BC', output='sheet_BC_buff', dist=1 )\n",
    "gs.run_command( 'r.mapcalc', expression='deviation_map=if(isnull(sheet_BC_buff), sheet-JR_2014, null())' )\n",
    "\n",
    "# Again, use two manually selected points.\n",
    "\n",
    "pt1 = '913878,250654'\n",
    "pt2 = '914317,249759'\n",
    "\n",
    "# Extract dune toe.\n",
    "gs.run_command( 'r.mapcalc', expression='cost=exp(-5*deviation_map)' )\n",
    "gs.run_command( 'r.mapcalc', expression='cost=exp(-5*deviation_map)' )\n",
    "gs.run_command( 'r.drain', input='cumulative_cost', output='JR_2014_duneToe_new', start_coordinates=pt2 )\n",
    "gs.run_command( 'r.mapcalc', expression='JR_2014_duneToe_new=float(JR_2014_duneToe_new)*JR_2014' )"
   ]
  },
  {
   "cell_type": "code",
   "execution_count": null,
   "id": "5c0cb433-f671-4115-89c4-2e4c931928c3",
   "metadata": {
    "tags": []
   },
   "outputs": [],
   "source": [
    "!g.list type=raster"
   ]
  },
  {
   "cell_type": "markdown",
   "id": "cedc3c0c-6361-4922-84bb-52cac7d54c0b",
   "metadata": {},
   "source": [
    "***\n",
    "\n",
    "## 5. Visualization"
   ]
  },
  {
   "cell_type": "code",
   "execution_count": null,
   "id": "506e83de-a501-4ee8-a0e2-e354ddd89ef6",
   "metadata": {
    "tags": []
   },
   "outputs": [],
   "source": [
    "#dune = gj.Map(use_region=True)\n",
    "#dune.d_rast(map=\"JR_2014_duneToe_new\") # d.rast map=naip_2020.1\n",
    "#dune.show()"
   ]
  },
  {
   "cell_type": "code",
   "execution_count": null,
   "id": "26b1c352-8aa0-46aa-95f7-e6adab1168c7",
   "metadata": {
    "tags": []
   },
   "outputs": [],
   "source": [
    "#dunes = gj.Map(use_region=\"JR_2014_duneRidge_vector\")\n",
    "dunes = gj.InteractiveMap(width=800, tiles=\"OpenStreetMap\")\n",
    "dunes.add_raster(\"JR_2014\")\n",
    "dunes.add_raster(\"JR_2014_duneToe_new\")\n",
    "dunes.add_vector(\"JR_2014_duneRidge_vector\")\n",
    "dunes.add_vector(\"JR_2014_shore\")\n",
    "dunes.add_layer_control()\n",
    "dunes.show()"
   ]
  },
  {
   "cell_type": "markdown",
   "id": "b57f4619-4e3e-4f49-a66d-9a6ae3c7f344",
   "metadata": {},
   "source": [
    "## Further Readings\n",
    "\n",
    "[Hardin E., Kurum O., Mitasova H., Overton MF, 2012, Least cost path extraction of topographic features for storm impact scale mapping, Journal of Coastal Research 28(4), p. 970-978.](https://doi.org/10.2112/JCOASTRES-D-11-00126.1)"
   ]
  }
 ],
 "metadata": {
  "kernelspec": {
   "display_name": "GRASS GIS",
   "language": "python",
   "name": "grass"
  },
  "language_info": {
   "codemirror_mode": {
    "name": "ipython",
    "version": 3
   },
   "file_extension": ".py",
   "mimetype": "text/x-python",
   "name": "python",
   "nbconvert_exporter": "python",
   "pygments_lexer": "ipython3",
   "version": "3.12.2"
  }
 },
 "nbformat": 4,
 "nbformat_minor": 5
}
